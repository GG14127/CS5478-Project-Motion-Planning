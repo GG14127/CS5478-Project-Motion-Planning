{
 "cells": [
  {
   "cell_type": "code",
   "execution_count": 1,
   "metadata": {},
   "outputs": [],
   "source": [
    "import time\n",
    "import numpy as np\n",
    "import pickle\n",
    "import sys\n",
    "import os\n",
    "import pybullet as p\n",
    "from init import *\n",
    "from utils.tools import *\n",
    "from modules.RRTstar import *\n",
    "import pybullet_data\n",
    "from modules.simple_control import *"
   ]
  },
  {
   "cell_type": "code",
   "execution_count": 2,
   "metadata": {},
   "outputs": [],
   "source": [
    "# connect pybullet\n",
    "physicsClient = p.connect(p.GUI)\n",
    "p.setAdditionalSearchPath(pybullet_data.getDataPath())\n",
    "root_dir = os.path.join(os.path.dirname(os.path.realpath('file')),\"../\")\n",
    "obstacle_ids = init_scene(p)\n",
    "robotId = load_robot(p)\n",
    "for _ in range(500):\n",
    "    p.stepSimulation()\n",
    "p.setTimeStep(1.0 / 240.0)"
   ]
  },
  {
   "cell_type": "code",
   "execution_count": 3,
   "metadata": {},
   "outputs": [],
   "source": [
    "right_front_wheel_joint = 2\n",
    "right_back_wheel_joint = 3\n",
    "left_front_wheel_joint = 6\n",
    "left_back_wheel_joint = 7\n",
    "base_wheels = [2,3,6,7]\n",
    "left_wheels = [left_back_wheel_joint, left_front_wheel_joint]\n",
    "right_wheels = [right_front_wheel_joint, right_back_wheel_joint]\n",
    "xmin, xmax = -1.5, 3.5  # x轴范围\n",
    "ymin, ymax = -4.5, 0.5  # y轴范围\n",
    "obstacle_aabbs = [p.getAABB(obstacle_id) for obstacle_id in obstacle_ids]\n",
    "target_body_id = None\n",
    "path_node_id = []"
   ]
  },
  {
   "cell_type": "code",
   "execution_count": 4,
   "metadata": {},
   "outputs": [
    {
     "name": "stdout",
     "output_type": "stream",
     "text": [
      "[-0.8289355173873489, -0.6696045401258908, 0]\n",
      "[-0.8289355173873489, -0.6696045401258908, 0]\n",
      "Global path found: [(-0.9999992943134902, -1.0001061911556777), (-0.8289355173873489, -0.6696045401258908)]\n",
      "[-0.35180049125555213, 0.4174234735868536, 0]\n",
      "[-0.35180049125555213, 0.4174234735868536, 0]\n",
      "Global path found: [(-0.8867883068518361, -0.7506136926939949), (-0.35180049125555213, 0.4174234735868536)]\n",
      "[-1.18862013855049, 0.3830028068434155, 0]\n",
      "[-1.18862013855049, 0.3830028068434155, 0]\n",
      "Global path found: [(-0.395635458685304, 0.32839134702670936), (-1.18862013855049, 0.3830028068434155)]\n"
     ]
    },
    {
     "name": "stderr",
     "output_type": "stream",
     "text": [
      "e:\\SEM1\\CS5478\\Project\\Motion-Planning\\simulation\\modules\\RRTstar.py:88: RuntimeWarning: invalid value encountered in scalar divide\n",
      "  x = from_node.x + (to_node.x - from_node.x) * i / steps\n",
      "e:\\SEM1\\CS5478\\Project\\Motion-Planning\\simulation\\modules\\RRTstar.py:89: RuntimeWarning: invalid value encountered in scalar divide\n",
      "  y = from_node.y + (to_node.y - from_node.y) * i / steps\n"
     ]
    },
    {
     "name": "stdout",
     "output_type": "stream",
     "text": [
      "[2.9671948143460396, -4.4866331457578905, 0]\n",
      "[2.9671948143460396, -4.4866331457578905, 0]\n",
      "Global path found: [(-1.0919918868026066, 0.36068109898548495), (np.float64(-0.17034756363794518), np.float64(-1.3681154600795018)), (np.float64(0.3913149955126477), np.float64(-1.6995529502799018)), (np.float64(0.4053149076565534), np.float64(-2.383212347254545)), (np.float64(-0.13386433795474162), np.float64(-2.2695185774057425)), (np.float64(-0.058849109372594965), np.float64(-3.996905927049154)), (np.float64(-0.049819870065892224), np.float64(-4.121990510055815)), (np.float64(0.4812932028781949), np.float64(-4.4602537739815595)), (2.9671948143460396, -4.4866331457578905)]\n",
      "[-0.3353029667726679, -2.752647673789522, 0]\n",
      "[-0.3353029667726679, -2.752647673789522, 0]\n",
      "Global path found: [(2.869194324620671, -4.470768974105801), (np.float64(1.5810902872967616), np.float64(-4.479633256595691)), (np.float64(0.38192334234151715), np.float64(-4.449223344535437)), (np.float64(-0.07492528052259209), np.float64(-4.061433641936634)), (-0.3353029667726679, -2.752647673789522)]\n",
      "[2.3662947081402788, 0.21279341427894227, 0]\n",
      "[2.3662947081402788, 0.21279341427894227, 0]\n",
      "Global path found: [(-0.3108015485327476, -2.849332297967521), (np.float64(-0.1749096276745098), np.float64(-3.90598716265019)), (np.float64(0.014096025746084762), np.float64(-4.138961116076435)), (np.float64(0.3407327644349407), np.float64(-4.489178790146223)), (np.float64(1.538061472178778), np.float64(-4.473508398264266)), (np.float64(1.5398855567016894), np.float64(-3.873860204882014)), (np.float64(1.408157316763928), np.float64(-3.6043278862207826)), (np.float64(1.5776725481011855), np.float64(-1.7228859816298416)), (np.float64(1.6486866272115905), np.float64(-1.127874072380994)), (np.float64(1.3727541243400259), np.float64(-0.32076586383900807)), (2.3662947081402788, 0.21279341427894227)]\n",
      "[3.2364134460370835, -3.079425869615202, 0]\n",
      "[3.2364134460370835, -3.079425869615202, 0]\n",
      "Global path found: [(2.2867827263374423, 0.15228726366298467), (np.float64(1.537927949558637), np.float64(-0.32426433058523474)), (np.float64(1.6303015770120266), np.float64(-0.7853596659068334)), (np.float64(1.6467996993557836), np.float64(-2.918602747851608)), (np.float64(2.753840393251716), np.float64(-2.702653968713083)), (3.2364134460370835, -3.079425869615202)]\n",
      "[3.268374432742543, -4.282013131220352, 0]\n",
      "[3.268374432742543, -4.282013131220352, 0]\n",
      "Global path found: [(3.1536052770123133, -3.0242597660420776), (3.268374432742543, -4.282013131220352)]\n",
      "[3.0734311378207764, -2.773393321134974, 0]\n",
      "[3.0734311378207764, -2.773393321134974, 0]\n",
      "Global path found: [(3.265375486123996, -4.18207450791942), (3.0734311378207764, -2.773393321134974)]\n",
      "[2.547359010518612, -4.456085664842029, 0]\n",
      "[2.547359010518612, -4.456085664842029, 0]\n",
      "Global path found: [(3.0832751992661445, -2.872649364199236), (np.float64(2.993472679096919), np.float64(-3.792877888256457)), (2.547359010518612, -4.456085664842029)]\n"
     ]
    }
   ],
   "source": [
    "for _ in range(10):\n",
    "    target_position, target_body_id = generate_target_visualize(target_body_id, xmin, xmax, ymin, ymax, obstacle_aabbs)\n",
    "    print(target_position)\n",
    "    rrt_star = RRTStar(start=p.getBasePositionAndOrientation(robotId)[0][:2], goal=target_position[:2], obstacle_list=obstacle_ids, bounds=[xmin, xmax, ymin, ymax])\n",
    "    path = rrt_star.plan()\n",
    "\n",
    "    if path is not None:\n",
    "        print(\"Global path found:\", path)\n",
    "        path_node_id = visualize_path_node(path_node_id, path)\n",
    "        for node in path:\n",
    "            simple_from_to_control(robotId, node)\n",
    "    else:\n",
    "        print(\"Failed to find a path\")\n",
    "        break\n",
    "    "
   ]
  }
 ],
 "metadata": {
  "kernelspec": {
   "display_name": "CS5478",
   "language": "python",
   "name": "python3"
  },
  "language_info": {
   "codemirror_mode": {
    "name": "ipython",
    "version": 3
   },
   "file_extension": ".py",
   "mimetype": "text/x-python",
   "name": "python",
   "nbconvert_exporter": "python",
   "pygments_lexer": "ipython3",
   "version": "3.9.19"
  }
 },
 "nbformat": 4,
 "nbformat_minor": 2
}
