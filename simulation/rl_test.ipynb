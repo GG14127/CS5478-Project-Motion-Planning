{
 "cells": [
  {
   "cell_type": "code",
   "execution_count": 1,
   "metadata": {},
   "outputs": [],
   "source": [
    "import time\n",
    "import numpy as np\n",
    "import pickle\n",
    "import sys\n",
    "import os\n",
    "import pybullet as p\n",
    "from init import *\n",
    "from utils.tools import *\n",
    "from modules.RRTstar import *\n",
    "import pybullet_data\n",
    "from modules.simple_control import *\n",
    "from modules.dwa import *\n",
    "import copy\n",
    "from modules.roboEnv import *\n",
    "import os"
   ]
  },
  {
   "cell_type": "code",
   "execution_count": 2,
   "metadata": {},
   "outputs": [],
   "source": [
    "# connect pybullet and initialize\n",
    "physicsClient = p.connect(p.GUI)\n",
    "p.setAdditionalSearchPath(pybullet_data.getDataPath())\n",
    "root_dir = os.path.join(os.path.dirname(os.path.realpath('file')),\"../\")\n",
    "obstacle_ids = init_scene(p)\n",
    "robotId = load_robot(p)\n",
    "dy_obs = p.loadURDF(\"cube.urdf\", [-1, 0.5, 0], globalScaling = 0.2)\n",
    "p.setTimeStep(1.0 / 240.0)\n",
    "# p.setRealTimeSimulation(1)"
   ]
  },
  {
   "cell_type": "code",
   "execution_count": 3,
   "metadata": {},
   "outputs": [],
   "source": [
    "right_front_wheel_joint = 2\n",
    "right_back_wheel_joint = 3\n",
    "left_front_wheel_joint = 6\n",
    "left_back_wheel_joint = 7\n",
    "base_wheels = [2,3,6,7]\n",
    "left_wheels = [left_back_wheel_joint, left_front_wheel_joint]\n",
    "right_wheels = [right_front_wheel_joint, right_back_wheel_joint]\n",
    "xmin, xmax = -1.5, 3.5  # x轴范围\n",
    "ymin, ymax = -4.5, 0.5  # y轴范围\n",
    "obstacle_aabbs = [p.getAABB(obstacle_id) for obstacle_id in obstacle_ids]\n",
    "obstacle_aabbs.append(((0.2, -3.8, 0.0),(1.1, -2.7,1.)))\n",
    "target_body_id = None\n",
    "path_node_id = []\n",
    "dy_obstacle_ids = copy.deepcopy(obstacle_ids)\n",
    "# dy_obstacle_ids.append(dy_obs)\n",
    "dy_obs_path = [(-1., 0.5), (-1., -1.5), (0.5, -1.5), (0.5, -2.5), (-1.5, -2.5), (-0.5, -4.),(0., -4.5), (-0.5, -4.),(-1.5, -2.5),(0.5, -2.5),(0.5, -1.5), (-1., -1.5)]"
   ]
  },
  {
   "cell_type": "code",
   "execution_count": 4,
   "metadata": {},
   "outputs": [],
   "source": [
    "available_position = []\n",
    "for x in range(-8, 17, 1):\n",
    "    for y in range(-24, 5, 1):\n",
    "        target_point = [x*0.25, y*0.25]        \n",
    "        is_valid = True\n",
    "        for aabb_min, aabb_max in obstacle_aabbs:\n",
    "            if is_point_in_aabb(target_point, aabb_min, aabb_max, clearance=0.2):\n",
    "                is_valid = False\n",
    "                break\n",
    "        if is_valid:\n",
    "            available_position.append((x,y))"
   ]
  },
  {
   "cell_type": "code",
   "execution_count": 5,
   "metadata": {},
   "outputs": [],
   "source": [
    "import torch\n",
    "import torch.nn as nn\n",
    "import torch.optim as optim\n",
    "import numpy as np\n",
    "\n",
    "class PolicyNetwork(nn.Module):\n",
    "    def __init__(self, state_dim, action_dim):\n",
    "        super(PolicyNetwork, self).__init__()\n",
    "        self.fc = nn.Sequential(\n",
    "            nn.Linear(state_dim, 128),\n",
    "            nn.ReLU(),\n",
    "            nn.Linear(128, action_dim),\n",
    "            nn.Softmax(dim=-1)\n",
    "        )\n",
    "    def forward(self, state):\n",
    "        return self.fc(state)\n",
    "\n",
    "class ValueNetwork(nn.Module):\n",
    "    def __init__(self, state_dim):\n",
    "        super(ValueNetwork, self).__init__()\n",
    "        self.fc = nn.Sequential(\n",
    "            nn.Linear(state_dim, 128),\n",
    "            nn.ReLU(),\n",
    "            nn.Linear(128, 1)\n",
    "        )\n",
    "    \n",
    "    def forward(self, state):\n",
    "        return self.fc(state)\n"
   ]
  },
  {
   "cell_type": "code",
   "execution_count": 6,
   "metadata": {},
   "outputs": [],
   "source": [
    "def test_model(env, policy_net):\n",
    "    states, actions, rewards, log_probs, dones = [], [], [], [], []\n",
    "    state = env.reset(reset_target=False)\n",
    "    done = False\n",
    "    while not done:\n",
    "        state_tensor = torch.tensor(state, dtype=torch.float32)\n",
    "        action_probs = policy_net(state_tensor)\n",
    "        action_dist = torch.distributions.Categorical(action_probs)\n",
    "        action = action_dist.sample()\n",
    "        \n",
    "        next_state, reward, done = env.step(action.item())\n",
    "        \n",
    "        states.append(state)\n",
    "        actions.append(action.item())\n",
    "        rewards.append(reward)\n",
    "        log_probs.append(action_dist.log_prob(action).item())\n",
    "        dones.append(done)\n",
    "        \n",
    "        state = next_state\n",
    "        if done:\n",
    "            break"
   ]
  },
  {
   "cell_type": "code",
   "execution_count": 7,
   "metadata": {},
   "outputs": [
    {
     "name": "stderr",
     "output_type": "stream",
     "text": [
      "C:\\Users\\13054\\AppData\\Local\\Temp\\ipykernel_33412\\18061056.py:7: FutureWarning: You are using `torch.load` with `weights_only=False` (the current default value), which uses the default pickle module implicitly. It is possible to construct malicious pickle data which will execute arbitrary code during unpickling (See https://github.com/pytorch/pytorch/blob/main/SECURITY.md#untrusted-models for more details). In a future release, the default value for `weights_only` will be flipped to `True`. This limits the functions that could be executed during unpickling. Arbitrary objects will no longer be allowed to be loaded via this mode unless they are explicitly allowlisted by the user via `torch.serialization.add_safe_globals`. We recommend you start setting `weights_only=True` for any use case where you don't have full control of the loaded file. Please open an issue on GitHub for any issues related to this experimental feature.\n",
      "  policy_net.load_state_dict(torch.load(os.path.join(\"models\", \"policy_net_600.pth\")))\n",
      "C:\\Users\\13054\\AppData\\Local\\Temp\\ipykernel_33412\\18061056.py:8: FutureWarning: You are using `torch.load` with `weights_only=False` (the current default value), which uses the default pickle module implicitly. It is possible to construct malicious pickle data which will execute arbitrary code during unpickling (See https://github.com/pytorch/pytorch/blob/main/SECURITY.md#untrusted-models for more details). In a future release, the default value for `weights_only` will be flipped to `True`. This limits the functions that could be executed during unpickling. Arbitrary objects will no longer be allowed to be loaded via this mode unless they are explicitly allowlisted by the user via `torch.serialization.add_safe_globals`. We recommend you start setting `weights_only=True` for any use case where you don't have full control of the loaded file. Please open an issue on GitHub for any issues related to this experimental feature.\n",
      "  value_net.load_state_dict(torch.load(os.path.join(\"models\", \"value_net_600.pth\")))\n"
     ]
    },
    {
     "data": {
      "text/plain": [
       "<All keys matched successfully>"
      ]
     },
     "execution_count": 7,
     "metadata": {},
     "output_type": "execute_result"
    }
   ],
   "source": [
    "# init env and network\n",
    "env = RobotEnv(robotId, obstacle_ids, dy_obs, target_position=(0.5, -2, 0), available_position=available_position)\n",
    "state_dim = 8\n",
    "action_dim = 8\n",
    "policy_net = PolicyNetwork(state_dim, action_dim)\n",
    "value_net = ValueNetwork(state_dim)\n",
    "policy_net.load_state_dict(torch.load(os.path.join(\"models\", \"policy_net_600.pth\")))\n",
    "value_net.load_state_dict(torch.load(os.path.join(\"models\", \"value_net_600.pth\")))"
   ]
  },
  {
   "cell_type": "code",
   "execution_count": 8,
   "metadata": {},
   "outputs": [],
   "source": [
    "# test\n",
    "env_test = RobotEnvTest(robotId, obstacle_ids, dy_obs, target_position=(0.5, -2, 0), available_position=available_position)\n",
    "test_model(env_test, policy_net)"
   ]
  }
 ],
 "metadata": {
  "kernelspec": {
   "display_name": "CS5478",
   "language": "python",
   "name": "python3"
  },
  "language_info": {
   "codemirror_mode": {
    "name": "ipython",
    "version": 3
   },
   "file_extension": ".py",
   "mimetype": "text/x-python",
   "name": "python",
   "nbconvert_exporter": "python",
   "pygments_lexer": "ipython3",
   "version": "3.9.19"
  }
 },
 "nbformat": 4,
 "nbformat_minor": 2
}
